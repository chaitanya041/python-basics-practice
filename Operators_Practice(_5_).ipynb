{
  "nbformat": 4,
  "nbformat_minor": 0,
  "metadata": {
    "colab": {
      "name": " Operators-Practice( 5 ).ipynb",
      "provenance": [],
      "collapsed_sections": [],
      "include_colab_link": true
    },
    "kernelspec": {
      "name": "python3",
      "display_name": "Python 3"
    },
    "language_info": {
      "name": "python"
    }
  },
  "cells": [
    {
      "cell_type": "markdown",
      "metadata": {
        "id": "view-in-github",
        "colab_type": "text"
      },
      "source": [
        "<a href=\"https://colab.research.google.com/github/chaitanya041/python-practice/blob/main/Operators_Practice(_5_).ipynb\" target=\"_parent\"><img src=\"https://colab.research.google.com/assets/colab-badge.svg\" alt=\"Open In Colab\"/></a>"
      ]
    },
    {
      "cell_type": "code",
      "metadata": {
        "id": "SGorguxW-zTb"
      },
      "source": [
        ""
      ],
      "execution_count": null,
      "outputs": []
    },
    {
      "cell_type": "markdown",
      "metadata": {
        "id": "4EQfxrpB-z_T"
      },
      "source": [
        "## Arithmetic operators\n",
        "Arithmetic operators are used to perform mathematical operations like addition, subtraction, multiplication, etc."
      ]
    },
    {
      "cell_type": "code",
      "metadata": {
        "id": "o4CZUyil-8JG"
      },
      "source": [
        "m = 15\n",
        "n = 4\n",
        "\n",
        "# Output: m + n = 19\n",
        "print('m + n =',m+n)\n",
        "\n",
        "# Output: m - n = 11\n",
        "print('m - n =',m-n)\n",
        "\n",
        "# Output: m * n = 60\n",
        "print('m * n =',m*n)\n",
        "\n",
        "# Output: m / n = 3.75\n",
        "print('m / n =',m/n)\n",
        "\n",
        "# Output: m // n = 3\n",
        "print('m // n =',m//n)\n",
        "\n",
        "# Output: m ** n = 50625\n",
        "print('m ** n =',m**n)"
      ],
      "execution_count": null,
      "outputs": []
    },
    {
      "cell_type": "markdown",
      "metadata": {
        "id": "ZQW5vhPd-9SK"
      },
      "source": [
        "## Comparison operators\n",
        "* Comparison operators are used to compare values. It returns either True or False according to the condition."
      ]
    },
    {
      "cell_type": "code",
      "metadata": {
        "id": "nYhq1kMJ_GlD"
      },
      "source": [
        "a = 10\n",
        "b = 12\n",
        "\n",
        "# Output: a > b is False\n",
        "print('a > b is',a>b)\n",
        "\n",
        "# Output: a < b is True\n",
        "print('a < b is',a<b)\n",
        "\n",
        "# Output: a == b is False\n",
        "print('a == b is',a==b)\n",
        "\n",
        "# Output: a != b is True\n",
        "print('a != b is',a!=b)\n",
        "\n",
        "# Output: a >= b is False\n",
        "print('a >= b is',a>=b)\n",
        "\n",
        "# Output: a <= b is True\n",
        "print('a <= b is',a<=b)"
      ],
      "execution_count": null,
      "outputs": []
    },
    {
      "cell_type": "markdown",
      "metadata": {
        "id": "vEMPYgwP_J6s"
      },
      "source": [
        "## Logical operators"
      ]
    },
    {
      "cell_type": "code",
      "metadata": {
        "id": "yOXyJUYK_Ozu",
        "colab": {
          "base_uri": "https://localhost:8080/"
        },
        "outputId": "08649776-3ea3-46c1-c162-a4f63e1e2b3f"
      },
      "source": [
        "x = True\n",
        "y = False\n",
        "\n",
        "print('x and y is',x and y)\n",
        "\n",
        "print('x or y is',x or y)\n",
        "\n",
        "print('not x is',not x)"
      ],
      "execution_count": null,
      "outputs": [
        {
          "output_type": "stream",
          "name": "stdout",
          "text": [
            "x and y is False\n",
            "x or y is True\n",
            "not x is False\n"
          ]
        }
      ]
    },
    {
      "cell_type": "markdown",
      "metadata": {
        "id": "9A52G8rc_Sg3"
      },
      "source": [
        "## Bitwise operators\n",
        "* Bitwise operators act on operands as if they were strings of binary digits. They operate bit by bit, hence the name.\n",
        "\n",
        "For example, 2 is 10 in binary and 7 is 111."
      ]
    },
    {
      "cell_type": "code",
      "metadata": {
        "id": "cRYstBNlAEO1",
        "colab": {
          "base_uri": "https://localhost:8080/"
        },
        "outputId": "4b645345-944f-4740-9cc4-15fa01ee8b3c"
      },
      "source": [
        "x=10    #bitwise means it will cheack for each bit\n",
        "y= 4\n",
        "print(x & y) \n",
        "print(x ^ y)\n",
        "print(x << 2)\n",
        "print(x >> 2)\n",
        "print(x|y)"
      ],
      "execution_count": null,
      "outputs": [
        {
          "output_type": "stream",
          "name": "stdout",
          "text": [
            "0\n",
            "14\n",
            "40\n",
            "2\n",
            "14\n"
          ]
        }
      ]
    },
    {
      "cell_type": "markdown",
      "metadata": {
        "id": "HG7A4vEu_b5j"
      },
      "source": [
        "## Assignment operators\n",
        "* Assignment operators are used in Python to assign values to variables."
      ]
    },
    {
      "cell_type": "code",
      "metadata": {
        "id": "CmxOH3tM_osE",
        "colab": {
          "base_uri": "https://localhost:8080/"
        },
        "outputId": "cd5e2d9b-19bc-4b6c-eb99-4bda1c22ea63"
      },
      "source": [
        "a=2\n",
        "a += 5\n",
        "a %= 5\n",
        "a **= 5\n",
        "a //= 5\n",
        "print(a)"
      ],
      "execution_count": null,
      "outputs": [
        {
          "output_type": "stream",
          "name": "stdout",
          "text": [
            "6\n"
          ]
        }
      ]
    },
    {
      "cell_type": "markdown",
      "metadata": {
        "id": "iSfVm8PVAoqX"
      },
      "source": [
        "## Special operators\n",
        "* Python language offers some special types of operators like the identity operator or the membership operator.\n",
        "\n",
        "## Identity operators\n",
        "* is and is not are the identity operators in Python.\n",
        "* They are used to check if two values (or variables) are located on the same part of the memory.\n",
        "* Two variables that are equal does not imply that they are identical."
      ]
    },
    {
      "cell_type": "code",
      "metadata": {
        "id": "oSUX8tYVAyEy"
      },
      "source": [
        "x1 = 10\n",
        "y1 = 10\n",
        "x2 = 'Welcome'\n",
        "y2 = 'Welcome'\n",
        "x3 = [10,20,30]\n",
        "y3 = [10,20,30]\n",
        "\n",
        "# Output: False\n",
        "print(x1 is not y1)\n",
        "\n",
        "# Output: True\n",
        "print(x2 is y2)\n",
        "\n",
        "# Output: False\n",
        "print(x3 is y3)"
      ],
      "execution_count": null,
      "outputs": []
    },
    {
      "cell_type": "markdown",
      "metadata": {
        "id": "t6X9rlnnA1id"
      },
      "source": [
        "## Membership operators\n",
        "* in and not in are the membership operators in Python.\n",
        "* They are used to test whether a value or variable is found in a sequence (string, tuple, set, list, dictionary)"
      ]
    },
    {
      "cell_type": "code",
      "metadata": {
        "id": "Qxcd6jPRA6h4"
      },
      "source": [
        "x = 'Hello world'\n",
        "y = {1:'a',2:'b'}\n",
        "\n",
        "# Output: True\n",
        "print('H' in x)\n",
        "\n",
        "# Output: True\n",
        "print('hello' not in x)\n",
        "\n",
        "# Output: True\n",
        "print(1 in y)\n",
        "\n",
        "# Output: False\n",
        "print('a' in y)"
      ],
      "execution_count": null,
      "outputs": []
    }
  ]
}