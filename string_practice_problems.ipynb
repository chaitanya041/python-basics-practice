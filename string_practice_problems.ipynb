{
  "nbformat": 4,
  "nbformat_minor": 0,
  "metadata": {
    "colab": {
      "name": "string practice problems.ipynb",
      "provenance": [],
      "authorship_tag": "ABX9TyMvOQ+uJNFN41s3GZwe+xRh",
      "include_colab_link": true
    },
    "kernelspec": {
      "name": "python3",
      "display_name": "Python 3"
    },
    "language_info": {
      "name": "python"
    }
  },
  "cells": [
    {
      "cell_type": "markdown",
      "metadata": {
        "id": "view-in-github",
        "colab_type": "text"
      },
      "source": [
        "<a href=\"https://colab.research.google.com/github/chaitanya041/python-practice/blob/main/string_practice_problems.ipynb\" target=\"_parent\"><img src=\"https://colab.research.google.com/assets/colab-badge.svg\" alt=\"Open In Colab\"/></a>"
      ]
    },
    {
      "cell_type": "code",
      "metadata": {
        "colab": {
          "base_uri": "https://localhost:8080/"
        },
        "id": "bVcXc86LvC9v",
        "outputId": "13722eff-43f3-49cf-8794-be2e0e434708"
      },
      "source": [
        "sum = 40\n",
        "sum = 40.5\n",
        "var1 = \" Test\"\n",
        "var2 = True\n",
        "\n",
        "print(sum,var1,var2)"
      ],
      "execution_count": null,
      "outputs": [
        {
          "output_type": "stream",
          "name": "stdout",
          "text": [
            "40.5  Test True\n"
          ]
        }
      ]
    },
    {
      "cell_type": "code",
      "metadata": {
        "colab": {
          "base_uri": "https://localhost:8080/"
        },
        "id": "w444Tpsbf7Jl",
        "outputId": "9b827563-ddee-4797-8a27-463fd467ef2b"
      },
      "source": [
        "list1 = [1,10,20,30,12,19]\n",
        "list2 = [5,8,9,10,17,18,20]\n",
        "print(list1+list2)\n",
        "print(list1[1]-list2[2])\n"
      ],
      "execution_count": null,
      "outputs": [
        {
          "output_type": "stream",
          "text": [
            "[1, 10, 20, 30, 12, 19, 5, 8, 9, 10, 17, 18, 20]\n",
            "1\n"
          ],
          "name": "stdout"
        }
      ]
    },
    {
      "cell_type": "code",
      "metadata": {
        "colab": {
          "base_uri": "https://localhost:8080/"
        },
        "id": "injqHf0eizvJ",
        "outputId": "28e45681-24d7-4fda-f637-bc02620f0950"
      },
      "source": [
        "i = 1\n",
        "while True:\n",
        "  if i%3 == 0:\n",
        "    break\n",
        "  print(i,'',end='')\n",
        "  i = i+1"
      ],
      "execution_count": null,
      "outputs": [
        {
          "output_type": "stream",
          "text": [
            "1 2 "
          ],
          "name": "stdout"
        }
      ]
    },
    {
      "cell_type": "code",
      "metadata": {
        "colab": {
          "base_uri": "https://localhost:8080/"
        },
        "id": "z2XrjRqnvSnm",
        "outputId": "5ef58865-0075-4abe-f92d-6d967183239f"
      },
      "source": [
        "a,b,c = \"hjs\",42,45\n",
        "print(a,b,c)\n",
        "a,b,c = \"hjs\"\n",
        "print(a,b,c)"
      ],
      "execution_count": null,
      "outputs": [
        {
          "output_type": "stream",
          "name": "stdout",
          "text": [
            "hjs 42 45\n",
            "h j s\n"
          ]
        }
      ]
    },
    {
      "cell_type": "code",
      "metadata": {
        "colab": {
          "base_uri": "https://localhost:8080/"
        },
        "id": "DwH2j4dvx6hO",
        "outputId": "74ca9cef-a506-465c-d8e1-3be38bdf00f5"
      },
      "source": [
        "courseName = \"This is OOP using Python course\"\n",
        "core_Course = \"Y\"\n",
        "multiline_comments = \"\"\"This course is offered for second year CS students \"\"\"\n",
        "new_unicode = u\"\\u00dcnic\\u00f6de\"\n",
        "imp_raw_str = r\"raw \\n string\"\n",
        "\n",
        "print(courseName)\n",
        "print(core_Course)\n",
        "print(multiline_comments)\n",
        "print(new_unicode)\n",
        "print(imp_raw_str)"
      ],
      "execution_count": null,
      "outputs": [
        {
          "output_type": "stream",
          "name": "stdout",
          "text": [
            "This is OOP using Python course\n",
            "Y\n",
            "This course is offered for second year CS students \n",
            "Ünicöde\n",
            "raw \\n string\n"
          ]
        }
      ]
    },
    {
      "cell_type": "code",
      "metadata": {
        "colab": {
          "base_uri": "https://localhost:8080/"
        },
        "id": "LYEK84r3L7tB",
        "outputId": "3eaf7f5c-a57c-458c-b3b5-c5d19f36ec43"
      },
      "source": [
        "m = (1 == True)\n",
        "y = (1 == False)\n",
        "l = True + 5\n",
        "m = False + 40\n",
        "\n",
        "print(\"m is\", m)\n",
        "print(\"y is\", y)\n",
        "print(\"l:\", l)\n",
        "print(\"m:\", m)"
      ],
      "execution_count": null,
      "outputs": [
        {
          "output_type": "stream",
          "name": "stdout",
          "text": [
            "m is 40\n",
            "y is False\n",
            "l: 6\n",
            "m: 40\n"
          ]
        }
      ]
    },
    {
      "cell_type": "code",
      "metadata": {
        "colab": {
          "base_uri": "https://localhost:8080/"
        },
        "id": "5gaIkmXxPJcK",
        "outputId": "409fe965-46d8-4360-d032-f153be85cd9a"
      },
      "source": [
        "food = \"Available\"\n",
        "junkfood = None\n",
        "\n",
        "def menu(x):\n",
        "    if x == food:\n",
        "        print(food)\n",
        "    else:\n",
        "        print('not available')\n",
        "\n",
        "menu(food)\n",
        "menu(junkfood)"
      ],
      "execution_count": null,
      "outputs": [
        {
          "output_type": "stream",
          "name": "stdout",
          "text": [
            "Available\n",
            "not available\n"
          ]
        }
      ]
    },
    {
      "cell_type": "markdown",
      "metadata": {
        "id": "CYGv9ZdbXpYc"
      },
      "source": [
        "string practice problems\n"
      ]
    },
    {
      "cell_type": "code",
      "metadata": {
        "colab": {
          "base_uri": "https://localhost:8080/"
        },
        "id": "HTSkl6Y7VBsT",
        "outputId": "a2086aed-2007-4ad0-9a0c-3595dc9d67ae"
      },
      "source": [
        "# python strings slicing \n",
        "\n",
        "s = 'Beautiful palace'\n",
        "print(s[:], \"\\n\")\n",
        "print(s[::],\"\\n\")\n",
        "first_five_chars = s[:5]\n",
        "print(\"First Five characters :\", first_five_chars, \"\\n\")\n",
        "third_to_fifth_chars = s[2:5]\n",
        "print(\"Third_to_fifth_chars:\" ,third_to_fifth_chars, \"\\n\")\n"
      ],
      "execution_count": null,
      "outputs": [
        {
          "output_type": "stream",
          "name": "stdout",
          "text": [
            "Beautiful palace \n",
            "\n",
            "Beautiful palace \n",
            "\n",
            "First Five characters : Beaut \n",
            "\n",
            "Third_to_fifth_chars: aut \n",
            "\n"
          ]
        }
      ]
    },
    {
      "cell_type": "code",
      "metadata": {
        "colab": {
          "base_uri": "https://localhost:8080/"
        },
        "id": "H5MEA7uQYEj9",
        "outputId": "c3bea2b5-d81e-4610-be8f-e48fa661d217"
      },
      "source": [
        "# problem 2: Slicing of strings using function slice\n",
        "py_string = 'LearningPythonFromBook'\n",
        "\n",
        "# start = -1, stop = -4, step = -1\n",
        "# includes  indices -1, -2 and -3\n",
        "slice_object1 = slice(-1, -10, -1)\n",
        "slice_object2 = slice(15, 5, -1)\n",
        "slice_object3 = slice(1, 6, 1)\n",
        "\n",
        "print(py_string[slice_object1],\"\\n\", py_string[slice_object2],\"\\n\",py_string[slice_object3])   \n"
      ],
      "execution_count": null,
      "outputs": [
        {
          "output_type": "stream",
          "name": "stdout",
          "text": [
            "kooBmorFn \n",
            " rFnohtyPgn \n",
            " earni\n"
          ]
        }
      ]
    },
    {
      "cell_type": "code",
      "metadata": {
        "colab": {
          "base_uri": "https://localhost:8080/"
        },
        "id": "6fgYP4--YM7O",
        "outputId": "814ac30f-3486-4f39-b462-798d90887956"
      },
      "source": [
        "# Reverse a String using Slicing\n",
        "s = 'HelloWorld'\n",
        "reverse_str = s[::-1]\n",
        "print(reverse_str)\n",
        "s1 = s[2:8:2]\n",
        "print(s1)\n",
        "s1 = s[8:1:-1]\n",
        "print(s1)\n"
      ],
      "execution_count": null,
      "outputs": [
        {
          "output_type": "stream",
          "name": "stdout",
          "text": [
            "dlroWolleH\n",
            "loo\n",
            "lroWoll\n"
          ]
        }
      ]
    },
    {
      "cell_type": "code",
      "metadata": {
        "colab": {
          "base_uri": "https://localhost:8080/"
        },
        "id": "peuBp2wYYUnS",
        "outputId": "f09e4181-8d20-4dec-bfc3-196bc118c77e"
      },
      "source": [
        "# Python slice works with positive indexes\n",
        "s= \"ThisIsDataStructuresClass\"\n",
        "s1 = s[-15:-6]\n",
        "print(\"1.Python slice works with positive indexes \",s1)\n",
        "s1 = s[2:15:3]\n",
        "print(\"2.Python slice works with positive indexes \",s1)\n",
        "s1= s[4:50]\n",
        "print(\"3.Python slice works with higher indexes: \", s1)\n",
        "\n",
        "# Python slice works with negative indexes \n",
        "s = 'PythonIsEasyToLearn'\n",
        "s1 = s[10:4:-1]\n",
        "print(\"4.Python slice works with negative indexes: \", s1)\n",
        "s = 'Python'\n",
        "s1=s[100:]\n",
        "print(\"5. Python gives none when ther is no slicing possible : \", s1)\n",
        "\n"
      ],
      "execution_count": null,
      "outputs": [
        {
          "output_type": "stream",
          "name": "stdout",
          "text": [
            "1.Python slice works with positive indexes  Structure\n",
            "2.Python slice works with positive indexes  isttc\n",
            "3.Python slice works with higher indexes:  IsDataStructuresClass\n",
            "4.Python slice works with negative indexes:  saEsIn\n",
            "5. Python gives none when ther is no slicing possible :  \n"
          ]
        }
      ]
    },
    {
      "cell_type": "code",
      "metadata": {
        "colab": {
          "base_uri": "https://localhost:8080/"
        },
        "id": "JU_W2tHjYcQg",
        "outputId": "fa0c7a05-ee4b-4dea-931f-fd3c2c3f39c7"
      },
      "source": [
        "#Program to get a substring from the given string \n",
        "py_string = 'Python book'\n",
        "# contains 0, 1 and 2 indices\n",
        "slice_object = slice(3) \n",
        "print(\"substring is : \", py_string[slice_object])  # Pyt\n",
        "\n",
        "# start = 1, stop = 6, step = 2\n",
        "# contains 1, 3 and 5 indices\n",
        "\n",
        "slice_object = slice(1, 6, 2)\n",
        "print(\"substring :\", py_string[slice_object])   # yin\n"
      ],
      "execution_count": null,
      "outputs": [
        {
          "output_type": "stream",
          "name": "stdout",
          "text": [
            "substring is :  Pyt\n",
            "substring : yhn\n"
          ]
        }
      ]
    },
    {
      "cell_type": "code",
      "metadata": {
        "colab": {
          "base_uri": "https://localhost:8080/"
        },
        "id": "iIiC4YNjd79R",
        "outputId": "8b1f9f0c-a53a-47cc-c1e6-09caf0ee5bb7"
      },
      "source": [
        "# Note:  different values for the id\n",
        "\n",
        "b = 2      # refer to same id\n",
        "\n",
        "print('id(2) =', id(2))\n",
        "\n",
        "print('id(b) =', id(b))\n",
        "\n",
        "\n",
        "b = b+1\n",
        "\n",
        "print('id(b) =', id(b))\n",
        "\n",
        "print('id(3) =', id(3))    # refer to different id"
      ],
      "execution_count": null,
      "outputs": [
        {
          "output_type": "stream",
          "name": "stdout",
          "text": [
            "id(2) = 94443616844320\n",
            "id(b) = 94443616844320\n",
            "id(b) = 94443616844352\n",
            "id(3) = 94443616844352\n"
          ]
        }
      ]
    },
    {
      "cell_type": "code",
      "metadata": {
        "colab": {
          "base_uri": "https://localhost:8080/"
        },
        "id": "mR9KP9BOiybB",
        "outputId": "b6a1c7f2-0034-4c86-8a96-cbd787fccc71"
      },
      "source": [
        "def outer_function():\n",
        "    a = 20\n",
        "\n",
        "    def inner_function():\n",
        "        a = 30\n",
        "        print('a =', a)\n",
        "\n",
        "    inner_function()\n",
        "    print('a =', a)\n",
        "\n",
        "\n",
        "a = 10\n",
        "outer_function()\n",
        "print('a =', a)"
      ],
      "execution_count": null,
      "outputs": [
        {
          "output_type": "stream",
          "name": "stdout",
          "text": [
            "a = 30\n",
            "a = 20\n",
            "a = 10\n"
          ]
        }
      ]
    },
    {
      "cell_type": "code",
      "metadata": {
        "colab": {
          "base_uri": "https://localhost:8080/"
        },
        "id": "gKU8kqJWmaHc",
        "outputId": "6bfd9fd6-185d-4541-e185-a4016015fecf"
      },
      "source": [
        "# three different variables a are defined in separate namespaces and accessed \n",
        "\n",
        "def outer_function():\n",
        "    global a\n",
        "    a = 20\n",
        "\n",
        "    def inner_function():\n",
        "        global a\n",
        "        a = 30\n",
        "        print('a =', a)\n",
        "\n",
        "    inner_function()\n",
        "    print('a =', a)\n",
        "\n",
        "\n",
        "a = 10\n",
        "outer_function()\n",
        "print('a =', a)"
      ],
      "execution_count": null,
      "outputs": [
        {
          "output_type": "stream",
          "name": "stdout",
          "text": [
            "a = 30\n",
            "a = 30\n",
            "a = 30\n"
          ]
        }
      ]
    },
    {
      "cell_type": "code",
      "metadata": {
        "colab": {
          "base_uri": "https://localhost:8080/"
        },
        "id": "2kN8m84Wz1HM",
        "outputId": "dd467ae1-47b4-483b-f920-29594dea3339"
      },
      "source": [
        "print(2+3*4)\n",
        "print((2+3)*4)\n",
        "print(2**10)\n",
        "print(6/3)\n",
        "print(7/3)\n",
        "print(7//3)\n",
        "print(7%3)\n",
        "print(3/6)\n",
        "print(3//6)\n",
        "print(3%6)\n",
        "print(2**100)\n",
        "print(5==10)\n",
        "print(10 > 5)\n",
        "print((5 >= 1) and (5 <= 10))"
      ],
      "execution_count": null,
      "outputs": [
        {
          "output_type": "stream",
          "name": "stdout",
          "text": [
            "14\n",
            "20\n",
            "1024\n",
            "2.0\n",
            "2.3333333333333335\n",
            "2\n",
            "1\n",
            "0.5\n",
            "0\n",
            "3\n",
            "1267650600228229401496703205376\n",
            "False\n",
            "True\n",
            "True\n"
          ]
        }
      ]
    },
    {
      "cell_type": "code",
      "metadata": {
        "id": "bN4bIAm61ZBd",
        "colab": {
          "base_uri": "https://localhost:8080/"
        },
        "outputId": "c71f4865-6413-4d83-9726-82af4c68ecb2"
      },
      "source": [
        "x = 'Hello world'\n",
        "y = {1:'a',2:'b'}\n",
        "\n",
        "# Output: True\n",
        "print('H' in x)\n",
        "\n",
        "# Output: True\n",
        "print('hello' not in x)\n",
        "\n",
        "# Output: True\n",
        "print(1 in y)\n",
        "\n",
        "# Output: False\n",
        "print('a' in y)"
      ],
      "execution_count": null,
      "outputs": [
        {
          "output_type": "stream",
          "name": "stdout",
          "text": [
            "True\n",
            "True\n",
            "True\n",
            "False\n"
          ]
        }
      ]
    }
  ]
}